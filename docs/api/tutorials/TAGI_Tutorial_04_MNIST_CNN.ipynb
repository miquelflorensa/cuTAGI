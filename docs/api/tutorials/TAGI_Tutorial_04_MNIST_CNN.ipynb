{
  "cells": [
    {
      "cell_type": "markdown",
      "metadata": {
        "id": "Ptw-Wc0HbcbK"
      },
      "source": [
        "# Training a Classifier\n",
        "\n",
        "This tutorial introduces how to use `pytagi` to train a simple model that is able to classify the digits from the MNIST dataset using a CNN with batch normalization. Run it now in [Google Colab](https://colab.research.google.com/drive/1-1JOjmfUrL106nf2u5zXzN6o-zHVlU51?usp=sharing)."
      ]
    },
    {
      "cell_type": "markdown",
      "metadata": {
        "id": "Ric6jPwh0edp"
      },
      "source": [
        "## Load and normalize MNIST\n",
        "\n",
        "In this tutorial we will make use of `torch` and `torchvision` to load and normalize the MNIST images. We define the batch size as well for the data processing."
      ]
    },
    {
      "cell_type": "code",
      "execution_count": 1,
      "metadata": {
        "id": "v81ctf4ef1NQ"
      },
      "outputs": [],
      "source": [
        "# Uncomment the following lines to install the required packages if not already installed\n",
        "# !pip install pytagi\n",
        "# !pip install numpy\n",
        "# !pip install tqdm\n",
        "\n",
        "import numpy as np\n",
        "import torch\n",
        "import torch.nn as nn\n",
        "import torch.optim as optim\n",
        "from torch.utils.data import DataLoader\n",
        "from torchvision import datasets, transforms\n",
        "from tqdm import tqdm"
      ]
    },
    {
      "cell_type": "markdown",
      "metadata": {
        "id": "cLJxdZdRgN76"
      },
      "source": [
        "We create a custom collate function"
      ]
    },
    {
      "cell_type": "code",
      "execution_count": 2,
      "metadata": {
        "id": "gVC8HZHwgXvl"
      },
      "outputs": [],
      "source": [
        "def custom_collate_fn(batch):\n",
        "    # batch is a list of tuples (image, label)\n",
        "    batch_images, batch_labels = zip(*batch)\n",
        "\n",
        "    # Convert to a single tensor and then to numpy\n",
        "    batch_images = torch.stack(batch_images)\n",
        "    batch_labels = torch.tensor(batch_labels)\n",
        "\n",
        "    # Flatten images and labels to 1D\n",
        "    batch_images = batch_images.numpy().reshape(len(batch_images), -1).flatten()\n",
        "    batch_labels = batch_labels.numpy().flatten()\n",
        "\n",
        "    return batch_images, batch_labels"
      ]
    },
    {
      "cell_type": "code",
      "execution_count": 3,
      "metadata": {
        "id": "bdnOsfQ1yjny"
      },
      "outputs": [],
      "source": [
        "# Data loading and preprocessing\n",
        "transform = transforms.Compose(\n",
        "    [transforms.ToTensor(), transforms.Normalize((0.1307,), (0.3081,))]\n",
        ")\n",
        "\n",
        "train_dataset = datasets.MNIST(\n",
        "    root=\"./data\", train=True, transform=transform, download=True\n",
        ")\n",
        "test_dataset = datasets.MNIST(\n",
        "    root=\"./data\", train=False, transform=transform, download=True\n",
        ")\n",
        "\n",
        "batch_size = 128\n",
        "\n",
        "train_loader = DataLoader(\n",
        "    train_dataset,\n",
        "    batch_size=batch_size,\n",
        "    shuffle=True,\n",
        "    num_workers=1,\n",
        "    collate_fn=custom_collate_fn,\n",
        ")\n",
        "test_loader = DataLoader(\n",
        "    test_dataset,\n",
        "    batch_size=batch_size,\n",
        "    shuffle=False,\n",
        "    num_workers=1,\n",
        "    collate_fn=custom_collate_fn,\n",
        ")\n"
      ]
    },
    {
      "cell_type": "markdown",
      "metadata": {
        "id": "OyJNk8DwgeGm"
      },
      "source": [
        "We can see some of the MNIST images :)"
      ]
    },
    {
      "cell_type": "code",
      "execution_count": 4,
      "metadata": {
        "id": "sPquNpCXgjM6"
      },
      "outputs": [
        {
          "data": {
            "image/png": "[encoded data removed]",
            "text/plain": [
              "<Figure size 1000x300 with 5 Axes>"
            ]
          },
          "metadata": {},
          "output_type": "display_data"
        }
      ],
      "source": [
        "import matplotlib.pyplot as plt\n",
        "\n",
        "# Get a batch from the training data loader\n",
        "# Note: The custom_collate_fn flattens the data, so we need to reshape it back to image format (28x28)\n",
        "# Also, the original images are grayscale, so we don't need a color map.\n",
        "images, labels = next(iter(train_loader))\n",
        "\n",
        "# Reshape the flattened images back to 28x28 for plotting\n",
        "images = images.reshape(-1, 1, 28, 28)\n",
        "\n",
        "# Display a few images\n",
        "fig, axes = plt.subplots(1, 5, figsize=(10, 3))\n",
        "for i in range(5):\n",
        "    axes[i].imshow(images[i].squeeze(), cmap='gray')\n",
        "    axes[i].set_title(f\"Label: {labels[i]}\")\n",
        "    axes[i].axis('off')\n",
        "plt.show()"
      ]
    },
    {
      "cell_type": "markdown",
      "metadata": {
        "id": "kSdiOcLug3Hv"
      },
      "source": [
        "## Define a Convolutional Neural Network\n",
        "\n",
        "Next we define our convolutional network. Because the images are in grayscale, we specify one channel in the entrance as well as the dimension of the images. We also use average pooling after the batch normalization and use ReLU as activation function."
      ]
    },
    {
      "cell_type": "code",
      "execution_count": 5,
      "metadata": {
        "id": "dBWQ9r7vgJVX"
      },
      "outputs": [],
      "source": [
        "from pytagi.nn import (\n",
        "    AvgPool2d,\n",
        "    BatchNorm2d,\n",
        "    Conv2d,\n",
        "    Linear,\n",
        "    OutputUpdater,\n",
        "    ReLU,\n",
        "    Sequential,\n",
        ")\n",
        "\n",
        "CNN_BATCHNORM = Sequential(\n",
        "    Conv2d(1, 32, 4, padding=1, in_width=28, in_height=28, bias=False),\n",
        "    ReLU(),\n",
        "    BatchNorm2d(32),\n",
        "    AvgPool2d(3, 2),\n",
        "    Conv2d(32, 64, 5, bias=False),\n",
        "    ReLU(),\n",
        "    BatchNorm2d(64),\n",
        "    AvgPool2d(3, 2),\n",
        "    Linear(64 * 4 * 4, 256),\n",
        "    ReLU(),\n",
        "    Linear(256, 11), # We use Hierarchical Softmax\n",
        ")\n"
      ]
    },
    {
      "cell_type": "markdown",
      "metadata": {
        "id": "sWE70rWZhj2-"
      },
      "source": [
        "## Train the network\n",
        "\n",
        "We need to first load the nework, instanciate our output updater, utils and metric classes. On the other side we will make use of the [Hierarchical Softmax](https://building-babylon.net/2017/08/01/hierarchical-softmax) in the output, so we will have to specify 11 units in the output layer and use the `out_updater.update_using_indices` function."
      ]
    },
    {
      "cell_type": "code",
      "execution_count": 6,
      "metadata": {
        "id": "BsbBluRrhwgZ"
      },
      "outputs": [],
      "source": [
        "net = CNN_BATCHNORM\n",
        "\n",
        "from pytagi import HRCSoftmaxMetric, Utils\n",
        "\n",
        "utils = Utils()\n",
        "# Hierachical Softmax\n",
        "metric = HRCSoftmaxMetric(num_classes=10)"
      ]
    },
    {
      "cell_type": "markdown",
      "metadata": {
        "id": "WV0o49RViJNq"
      },
      "source": [
        "In this step we can also make our model run on GPU in case we have CUDA."
      ]
    },
    {
      "cell_type": "code",
      "execution_count": 7,
      "metadata": {
        "id": "ccLc2hgHiTGh"
      },
      "outputs": [],
      "source": [
        "import pytagi\n",
        "net.to_device(\"cuda\" if pytagi.cuda.is_available() else \"cpu\")\n",
        "\n",
        "# We can also set number of threads if we run on CPU\n",
        "# net.set_threads(8)\n",
        "\n",
        "out_updater = OutputUpdater(net.device)"
      ]
    },
    {
      "cell_type": "markdown",
      "metadata": {
        "id": "gohOg5w28WAo"
      },
      "source": [
        "We need to also specify a sigma_v, which corresponds to the noise of the data."
      ]
    },
    {
      "cell_type": "code",
      "execution_count": 8,
      "metadata": {
        "id": "68389a16"
      },
      "outputs": [
        {
          "name": "stderr",
          "output_type": "stream",
          "text": [
            "Epoch 5/5 | training error: 0.78%: 100%|██████████| 5/5 [01:03<00:00, 12.73s/it]"
          ]
        },
        {
          "name": "stdout",
          "output_type": "stream",
          "text": [
            "Training complete.\n"
          ]
        },
        {
          "name": "stderr",
          "output_type": "stream",
          "text": [
            "\n"
          ]
        }
      ],
      "source": [
        "# Training\n",
        "error_rates = []\n",
        "num_epochs = 5\n",
        "sigma_v = 0.2\n",
        "\n",
        "pbar = tqdm(range(num_epochs), desc=\"Training Progress\")\n",
        "var_y = np.full(\n",
        "        (batch_size * metric.hrc_softmax.num_obs,),\n",
        "        sigma_v**2,\n",
        "        dtype=np.float32,\n",
        "    )\n",
        "\n",
        "for epoch in pbar:\n",
        "    net.train()\n",
        "\n",
        "    for x, labels in train_loader:\n",
        "        # Feedforward and backward pass\n",
        "        m_pred, v_pred = net(x)\n",
        "\n",
        "        # Update output layers based on targets\n",
        "        y, y_idx, _ = utils.label_to_obs(labels=labels, num_classes=10)\n",
        "        out_updater.update_using_indices(\n",
        "            output_states=net.output_z_buffer,\n",
        "            mu_obs=y,\n",
        "            var_obs=var_y,\n",
        "            selected_idx=y_idx,\n",
        "            delta_states=net.input_delta_z_buffer,\n",
        "        )\n",
        "\n",
        "        # Update parameters\n",
        "        net.backward()\n",
        "        net.step()\n",
        "\n",
        "        # Training metric\n",
        "        error_rate = metric.error_rate(m_pred, v_pred, labels)\n",
        "        error_rates.append(error_rate)\n",
        "\n",
        "    # Averaged error\n",
        "    avg_error_rate = sum(error_rates[-100:])\n",
        "\n",
        "    pbar.set_description(\n",
        "        f\"Epoch {epoch + 1}/{num_epochs} | training error: {avg_error_rate:.2f}%\",\n",
        "        refresh=False,\n",
        "    )\n",
        "print(\"Training complete.\")"
      ]
    },
    {
      "cell_type": "markdown",
      "metadata": {
        "id": "Q3-Kv14PrWFO"
      },
      "source": [
        "## Test the model"
      ]
    },
    {
      "cell_type": "code",
      "execution_count": 9,
      "metadata": {
        "id": "eZ0uc2NDrVrc"
      },
      "outputs": [
        {
          "name": "stdout",
          "output_type": "stream",
          "text": [
            "Test error: 0.85%\n"
          ]
        }
      ],
      "source": [
        "# Testing\n",
        "test_error_rates = []\n",
        "net.eval()\n",
        "for x, labels in test_loader:\n",
        "    m_pred, v_pred = net(x)\n",
        "\n",
        "    # Training metric\n",
        "    error_rate = metric.error_rate(m_pred, v_pred, labels)\n",
        "    test_error_rates.append(error_rate)\n",
        "\n",
        "test_error_rate = sum(test_error_rates) / len(test_error_rates)\n",
        "print(f\"Test error: {test_error_rate * 100:.2f}%\")\n"
      ]
    },
    {
      "cell_type": "markdown",
      "metadata": {
        "id": "o96wk5B-ssoV"
      },
      "source": [
        "We can now try to visualize some of the predictions."
      ]
    },
    {
      "cell_type": "code",
      "execution_count": 10,
      "metadata": {
        "id": "dd916e87"
      },
      "outputs": [],
      "source": [
        "def visualize_predictions(model, dataloader, num_images=5):\n",
        "    \"\"\"\n",
        "    Visualizes the model's predictions on a batch of images.\n",
        "\n",
        "    Args:\n",
        "        model: The trained pytagi model.\n",
        "        dataloader: The DataLoader for the dataset to visualize.\n",
        "        num_images: The number of images to display.\n",
        "    \"\"\"\n",
        "    model.eval()\n",
        "    images, labels = next(iter(dataloader))\n",
        "\n",
        "    # Reshape the flattened images back to 28x28 for plotting\n",
        "    images_reshaped = images.reshape(-1, 1, 28, 28)\n",
        "\n",
        "    m_pred, v_pred = model(images)\n",
        "    predicted_labels, _ = utils.get_labels(\n",
        "        m_pred,\n",
        "        v_pred,\n",
        "        metric.hrc_softmax,\n",
        "        num_classes=10,\n",
        "        batch_size=batch_size,\n",
        "    )\n",
        "\n",
        "    fig, axes = plt.subplots(1, num_images, figsize=(10, 3))\n",
        "    for i in range(num_images):\n",
        "        axes[i].imshow(images_reshaped[i].squeeze(), cmap='gray')\n",
        "        axes[i].set_title(f\"True: {labels[i]}\\nPred: {predicted_labels[i]}\")\n",
        "        axes[i].axis('off')\n",
        "    plt.tight_layout()\n",
        "    plt.show()"
      ]
    },
    {
      "cell_type": "markdown",
      "metadata": {
        "id": "45d3a2d3"
      },
      "source": [
        "## Visualize Predictions"
      ]
    },
    {
      "cell_type": "code",
      "execution_count": 11,
      "metadata": {
        "id": "e4b3154d"
      },
      "outputs": [
        {
          "data": {
            "image/png": "[encoded data removed]",
            "text/plain": [
              "<Figure size 1000x300 with 10 Axes>"
            ]
          },
          "metadata": {},
          "output_type": "display_data"
        }
      ],
      "source": [
        "# Visualize predictions on a batch from the test set\n",
        "visualize_predictions(net, test_loader, num_images=10)"
      ]
    }
  ],
  "metadata": {
    "accelerator": "GPU",
    "colab": {
      "gpuType": "T4",
      "provenance": []
    },
    "kernelspec": {
      "display_name": "cuTAGI",
      "language": "python",
      "name": "python3"
    },
    "language_info": {
      "codemirror_mode": {
        "name": "ipython",
        "version": 3
      },
      "file_extension": ".py",
      "mimetype": "text/x-python",
      "name": "python",
      "nbconvert_exporter": "python",
      "pygments_lexer": "ipython3",
      "version": "3.10.16"
    }
  },
  "nbformat": 4,
  "nbformat_minor": 0
}
