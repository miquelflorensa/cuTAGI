{
  "cells": [
    {
      "cell_type": "markdown",
      "id": "d67170e5",
      "metadata": {
        "id": "d67170e5"
      },
      "source": [
        "# Univariate time series forecasting with LSTM\n",
        "This tutorial example presents how to perform forecasts for an univariate time series while using a LSTM neural network.  In this example, we use a simple sine-like signal. Run it now in [Google Colab](https://colab.research.google.com/drive/1-Zq4c2-uqa_ZeMzI4XZvb4ca8-DdKkDO?usp=sharing)."
      ]
    },
    {
      "cell_type": "markdown",
      "id": "6714581a",
      "metadata": {
        "id": "6714581a"
      },
      "source": [
        "### Import libraries\n",
        "Import the various libraries that will be employed in this example."
      ]
    },
    {
      "cell_type": "code",
      "execution_count": null,
      "id": "587b9e58",
      "metadata": {
        "id": "587b9e58"
      },
      "outputs": [],
      "source": [
        "import matplotlib.pyplot as plt\n",
        "import numpy as np\n",
        "import pandas as pd\n",
        "from tqdm import tqdm\n",
        "from pathlib import Path\n",
        "from sklearn.preprocessing import StandardScaler\n",
        "import torch\n",
        "from torch.utils.data import DataLoader, TensorDataset"
      ]
    },
    {
      "cell_type": "markdown",
      "id": "cecfc606",
      "metadata": {
        "id": "cecfc606"
      },
      "source": [
        "### Import from pytagi\n",
        "From pytagi, we need to import several classes that will be reused in this example. Notably, we import different neural network layers, a normalizer to normalize data, an exponential scheduler for decaying observation noise variances."
      ]
    },
    {
      "cell_type": "code",
      "metadata": {
        "colab": {
          "base_uri": "https://localhost:8080/"
        },
        "id": "8c0b3925",
        "outputId": "4fa67cb5-c667-41a4-8b06-ebb203653f18"
      },
      "source": [
        "!pip install pytagi"
      ],
      "id": "8c0b3925",
      "execution_count": null,
      "outputs": [
        {
          "output_type": "stream",
          "name": "stdout",
          "text": [
            "Requirement already satisfied: pytagi in /usr/local/lib/python3.12/dist-packages (0.2.0)\n"
          ]
        }
      ]
    },
    {
      "cell_type": "code",
      "execution_count": null,
      "id": "4fc1f4fa",
      "metadata": {
        "id": "4fc1f4fa"
      },
      "outputs": [],
      "source": [
        "import pytagi.metric as metric\n",
        "from pytagi import exponential_scheduler\n",
        "from pytagi.nn import LSTM, Linear, OutputUpdater, Sequential"
      ]
    },
    {
      "cell_type": "markdown",
      "id": "3373e4e2",
      "metadata": {
        "id": "3373e4e2"
      },
      "source": [
        "### Read data\n",
        "The raw `.csv` data is saved in a dataframe using the Panda external library. The data can be found in the [Github reposetory](https://github.com/lhnguyen102/cuTAGI/tree/main/data/toy_time_series)."
      ]
    },
    {
      "cell_type": "code",
      "execution_count": null,
      "id": "f273a6e9",
      "metadata": {
        "id": "f273a6e9",
        "colab": {
          "base_uri": "https://localhost:8080/"
        },
        "outputId": "f7cdbf8c-031c-4937-c771-3552eefe7064"
      },
      "outputs": [
        {
          "output_type": "stream",
          "name": "stdout",
          "text": [
            "Downloading x_train_sin_data.csv...\n",
            "Downloading x_test_sin_data.csv...\n"
          ]
        }
      ],
      "source": [
        "# Raw URL for the training data\n",
        "train_url = \"https://raw.githubusercontent.com/lhnguyen102/cuTAGI/main/data/toy_time_series/x_train_sin_data.csv\"\n",
        "# Raw URL for the test data\n",
        "test_url = \"https://raw.githubusercontent.com/lhnguyen102/cuTAGI/main/data/toy_time_series/x_test_sin_data.csv\"\n",
        "\n",
        "# Use !wget to download the files to your current Colab directory\n",
        "print(\"Downloading x_train_sin_data.csv...\")\n",
        "!wget -q $train_url\n",
        "print(\"Downloading x_test_sin_data.csv...\")\n",
        "!wget -q $test_url\n",
        "\n",
        "# Training data\n",
        "train_data_file = \"x_train_sin_data.csv\"\n",
        "train_data = pd.read_csv(train_data_file, skiprows=1, delimiter=\",\", header=None)\n",
        "\n",
        "# Test data\n",
        "test_data_file = \"x_test_sin_data.csv\"\n",
        "test_data = pd.read_csv(test_data_file, skiprows=1, delimiter=\",\", header=None)"
      ]
    },
    {
      "cell_type": "markdown",
      "id": "e924eb7d",
      "metadata": {
        "id": "e924eb7d"
      },
      "source": [
        "### Standardize data\n",
        "Standardize data to make the training data having zero mean and unit standard deviation"
      ]
    },
    {
      "cell_type": "code",
      "execution_count": null,
      "id": "02cc5f75",
      "metadata": {
        "id": "02cc5f75"
      },
      "outputs": [],
      "source": [
        "scaler = StandardScaler()\n",
        "train_data = scaler.fit_transform(train_data.values)\n",
        "test_data = scaler.transform(test_data.values)"
      ]
    },
    {
      "cell_type": "markdown",
      "id": "171bc8e1",
      "metadata": {
        "id": "171bc8e1"
      },
      "source": [
        "### Create dataset using sliding windows\n",
        "We obtain (input, output) samples using sliding windows"
      ]
    },
    {
      "cell_type": "code",
      "execution_count": null,
      "id": "a853c681",
      "metadata": {
        "id": "a853c681"
      },
      "outputs": [],
      "source": [
        "# Sliding_window function\n",
        "def create_dataset_sliding_window(data, look_back):\n",
        "\tdataX, dataY = [], []\n",
        "\tfor i in range(len(data)-look_back-1):\n",
        "\t\tinput = data[i:i+look_back]\n",
        "\t\toutput = data[i+look_back]\n",
        "\t\tdataX.append(input)\n",
        "\t\tdataY.append(output)\n",
        "\treturn np.array(dataX), np.array(dataY)\n",
        "\n",
        "input_seq_len = 10\n",
        "batch_size = 8\n",
        "\n",
        "# Create training dataset\n",
        "trainX, trainY = create_dataset_sliding_window(train_data, look_back = input_seq_len)\n",
        "trainX = torch.as_tensor(trainX, dtype=torch.float32)\n",
        "trainY = torch.as_tensor(trainY, dtype=torch.float32)\n",
        "train_ds = TensorDataset(trainX, trainY)\n",
        "train_loader = DataLoader(train_ds, batch_size=batch_size, shuffle=True)\n",
        "\n",
        "# Create test dataset\n",
        "testX, testY = create_dataset_sliding_window(test_data, look_back = input_seq_len)\n",
        "testX = torch.as_tensor(testX, dtype=torch.float32)\n",
        "testY = torch.as_tensor(testY, dtype=torch.float32)\n",
        "test_ds = TensorDataset(testX, testY)\n",
        "test_loader = DataLoader(test_ds, batch_size=batch_size, shuffle=False)"
      ]
    },
    {
      "cell_type": "markdown",
      "id": "7ee6af2e",
      "metadata": {
        "id": "7ee6af2e"
      },
      "source": [
        "### Define the neural network architecture\n",
        "We use 2 LSTM layers following by a linear layer (or fully connected layer)"
      ]
    },
    {
      "cell_type": "code",
      "execution_count": null,
      "id": "40bb3e24",
      "metadata": {
        "id": "40bb3e24"
      },
      "outputs": [],
      "source": [
        "net = Sequential(\n",
        "    LSTM(1, 20, input_seq_len),\n",
        "    LSTM(20, 20, input_seq_len),\n",
        "    Linear(20 * input_seq_len, 1),\n",
        ")\n",
        "# net.to_device(\"cuda\")\n",
        "net.set_threads(1)\n",
        "out_updater = OutputUpdater(net.device)"
      ]
    },
    {
      "cell_type": "markdown",
      "id": "bda5cd44",
      "metadata": {
        "id": "bda5cd44"
      },
      "source": [
        "### Training the neural network\n",
        "The training set is used to optimize the parameters of the LSTM neural network. In this example, the model is trained until it reaches the maximum number of epochs."
      ]
    },
    {
      "cell_type": "code",
      "execution_count": null,
      "id": "cc8c4061",
      "metadata": {
        "id": "cc8c4061",
        "outputId": "8ff80803-bfcb-4156-8148-f4e60f6d5410",
        "colab": {
          "base_uri": "https://localhost:8080/"
        }
      },
      "outputs": [
        {
          "output_type": "stream",
          "name": "stderr",
          "text": [
            "Epoch 50/50| mse:    0.17: 100%|██████████| 50/50 [00:25<00:00,  1.98it/s]\n"
          ]
        }
      ],
      "source": [
        "mses = []\n",
        "num_epochs = 50\n",
        "pbar = tqdm(range(num_epochs), desc=\"Training Progress\")\n",
        "sigma_v = 1             # Upper bound for the standard deviation for the observation noise (the starting value for the scheduler)\n",
        "std_obs_noise = 0.3     # Actual standard deviation for the observation noise\n",
        "\n",
        "for epoch in pbar:\n",
        "\n",
        "    # Decaying observation's variance\n",
        "    sigma_v = exponential_scheduler(\n",
        "        curr_v=sigma_v, min_v=std_obs_noise, decaying_factor=0.99, curr_iter=epoch\n",
        "    )\n",
        "    var_y = np.full(\n",
        "        (batch_size,), sigma_v**2, dtype=np.float32\n",
        "    )\n",
        "\n",
        "    for x, y in train_loader:\n",
        "        # Feed forward\n",
        "        m_pred, _ = net(x.numpy().flatten())\n",
        "\n",
        "        # Update output layer\n",
        "        out_updater.update(\n",
        "            output_states=net.output_z_buffer,\n",
        "            mu_obs=y.numpy().flatten(),\n",
        "            var_obs=var_y,\n",
        "            delta_states=net.input_delta_z_buffer,\n",
        "        )\n",
        "\n",
        "        # Feed backward\n",
        "        net.backward()\n",
        "        net.step()\n",
        "\n",
        "        # Training metric\n",
        "        pred = scaler.inverse_transform(m_pred.reshape(-1,1))\n",
        "        obs = scaler.inverse_transform(y.reshape(-1,1))\n",
        "        mse = metric.mse(pred, obs)\n",
        "        mses.append(mse)\n",
        "\n",
        "    net.reset_lstm_states()\n",
        "    # Progress bar\n",
        "    pbar.set_description(\n",
        "        f\"Epoch {epoch + 1}/{num_epochs}| mse: {sum(mses)/len(mses):>7.2f}\",\n",
        "        refresh=True,\n",
        "    )"
      ]
    },
    {
      "cell_type": "markdown",
      "id": "4d710f48",
      "metadata": {
        "id": "4d710f48"
      },
      "source": [
        "### Forecast on the test set\n",
        "We perform recursive 1-step ahead forecasts on the test set and then proceed with un-standardization of the data in order to retreive the original scale of the raw data."
      ]
    },
    {
      "cell_type": "code",
      "execution_count": null,
      "id": "14ec4034",
      "metadata": {
        "id": "14ec4034"
      },
      "outputs": [],
      "source": [
        "mu_preds = []\n",
        "var_preds = []\n",
        "y_test = []\n",
        "\n",
        "for x, y in test_loader:\n",
        "    # Predicion\n",
        "    m_pred, v_pred = net(x.numpy().flatten())\n",
        "\n",
        "    mu_preds.extend(m_pred)\n",
        "    var_preds.extend(v_pred + sigma_v**2)\n",
        "    y_test.extend(y)\n",
        "\n",
        "mu_preds = np.array(mu_preds)\n",
        "std_preds = np.array(var_preds).flatten() ** 0.5\n",
        "y_test = np.array(y_test)\n",
        "\n",
        "# Unstandardization\n",
        "mu_preds = scaler.inverse_transform(mu_preds.reshape(-1,1))\n",
        "y_test = scaler.inverse_transform(y_test.reshape(-1,1))\n",
        "std_preds = std_preds*scaler.scale_"
      ]
    },
    {
      "cell_type": "markdown",
      "id": "bf7a4776",
      "metadata": {
        "id": "bf7a4776"
      },
      "source": [
        "### Plot test predictions\n",
        "Plot the training data, test data, test predictions along their uncertainty in the original space."
      ]
    },
    {
      "cell_type": "code",
      "execution_count": null,
      "id": "3e8f630a",
      "metadata": {
        "id": "3e8f630a",
        "outputId": "ac90873d-02d9-4da3-9e2f-e72fc3fec682",
        "colab": {
          "base_uri": "https://localhost:8080/",
          "height": 522
        }
      },
      "outputs": [
        {
          "output_type": "display_data",
          "data": {
            "text/plain": [
              "<Figure size 1000x600 with 1 Axes>"
            ],
            "image/png": "[encoded data removed]"
          },
          "metadata": {}
        }
      ],
      "source": [
        "# Download Data\n",
        "train_data_time_url = \"https://raw.githubusercontent.com/lhnguyen102/cuTAGI/main/data/toy_time_series/train_sin_datetime.csv\"\n",
        "test_data_time_url = \"https://raw.githubusercontent.com/lhnguyen102/cuTAGI/main/data/toy_time_series/test_sin_datetime.csv\"\n",
        "!wget -q $train_data_time_url\n",
        "!wget -q $test_data_time_url\n",
        "train_sin_datetime = \"train_sin_datetime.csv\"\n",
        "test_sin_datetime = \"test_sin_datetime.csv\"\n",
        "\n",
        "# Training data time\n",
        "train_data_time = pd.read_csv(train_sin_datetime, skiprows=1, delimiter=\",\", header=None)\n",
        "train_data_time = pd.to_datetime(train_data_time[0])\n",
        "time_train = train_data_time.values.flatten()[input_seq_len+1:]\n",
        "train_data = scaler.inverse_transform(train_data[input_seq_len+1:].reshape(-1,1))\n",
        "\n",
        "# Test data time\n",
        "test_data_time = pd.read_csv(test_sin_datetime, skiprows=1, delimiter=\",\", header=None)\n",
        "test_data_time = pd.to_datetime(test_data_time[0])\n",
        "time_test = test_data_time.values.flatten()[input_seq_len+1:]\n",
        "\n",
        "# Plot\n",
        "plt.figure(figsize=(10, 6))\n",
        "plt.plot(time_train, train_data, color='black', label=\"Train data\")\n",
        "plt.plot(time_test, y_test, color='red', label=\"Test data\")\n",
        "plt.plot(time_test, mu_preds, color='blue', label=\"Test predictions\")\n",
        "plt.fill_between(\n",
        "                time_test.flatten(),\n",
        "                mu_preds.flatten() - std_preds.flatten(),\n",
        "                mu_preds.flatten() + std_preds.flatten(),\n",
        "                facecolor=\"blue\",\n",
        "                alpha=0.3,\n",
        "                label=r\"$\\pm 1$ std\",\n",
        "            )\n",
        "plt.legend()\n",
        "plt.show()"
      ]
    }
  ],
  "metadata": {
    "kernelspec": {
      "display_name": "cuTAGI",
      "language": "python",
      "name": "python3"
    },
    "language_info": {
      "codemirror_mode": {
        "name": "ipython",
        "version": 3
      },
      "file_extension": ".py",
      "mimetype": "text/x-python",
      "name": "python",
      "nbconvert_exporter": "python",
      "pygments_lexer": "ipython3",
      "version": "3.10.16"
    },
    "colab": {
      "provenance": []
    }
  },
  "nbformat": 4,
  "nbformat_minor": 5
}
