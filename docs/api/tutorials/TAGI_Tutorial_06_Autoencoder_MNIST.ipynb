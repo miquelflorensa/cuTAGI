{
  "cells": [
    {
      "cell_type": "markdown",
      "metadata": {
        "id": "Ptw-Wc0HbcbK"
      },
      "source": [
        "# Training an Autoencoder for MNIST\n",
        "\n",
        "This tutorial introduces how to use `pytagi` to train a model that is able to encode the MNIST images into a latent space by using an encoder decoder architecture. Run it now in [Google Colab](https://colab.research.google.com/drive/10J-v0nTXAH5ApKDaBIj-uQLU5Lpck5ye?usp=sharing)."
      ]
    },
    {
      "cell_type": "markdown",
      "metadata": {
        "id": "Ric6jPwh0edp"
      },
      "source": [
        "## Load and normalize MNIST\n",
        "\n",
        "In this tutorial we will make use of `torch` and `torchvision` to load and normalize the MNIST images. We define the batch size as well for the data processing."
      ]
    },
    {
      "cell_type": "code",
      "execution_count": null,
      "metadata": {
        "id": "v81ctf4ef1NQ"
      },
      "outputs": [],
      "source": [
        "# Uncomment the following lines to install the required packages if not already installed\n",
        "# !pip install pytagi\n",
        "# !pip install numpy\n",
        "# !pip install tqdm\n",
        "\n",
        "import numpy as np\n",
        "import torch\n",
        "import torch.nn as nn\n",
        "import torch.optim as optim\n",
        "from torch.utils.data import DataLoader\n",
        "from torchvision import datasets, transforms\n",
        "from tqdm import tqdm"
      ]
    },
    {
      "cell_type": "markdown",
      "metadata": {
        "id": "cLJxdZdRgN76"
      },
      "source": [
        "We create a custom collate function for the MNIST dataset."
      ]
    },
    {
      "cell_type": "code",
      "execution_count": null,
      "metadata": {
        "id": "gVC8HZHwgXvl"
      },
      "outputs": [],
      "source": [
        "def custom_collate_fn(batch):\n",
        "    # batch is a list of tuples (image, label)\n",
        "    batch_images, batch_labels = zip(*batch)\n",
        "\n",
        "    # Convert to a single tensor and then to numpy\n",
        "    batch_images = torch.stack(batch_images)\n",
        "    batch_labels = torch.tensor(batch_labels)\n",
        "\n",
        "    # Flatten images and labels to 1D\n",
        "    batch_images = batch_images.numpy().reshape(len(batch_images), -1).flatten()\n",
        "    batch_labels = batch_labels.numpy().flatten()\n",
        "\n",
        "    return batch_images, batch_labels"
      ]
    },
    {
      "cell_type": "code",
      "execution_count": null,
      "metadata": {
        "id": "bdnOsfQ1yjny"
      },
      "outputs": [],
      "source": [
        "# Data loading and preprocessing\n",
        "transform = transforms.Compose(\n",
        "    [transforms.ToTensor(), transforms.Normalize((0.1307,), (0.3081,))]\n",
        ")\n",
        "\n",
        "train_dataset = datasets.MNIST(\n",
        "    root=\"./data\", train=True, transform=transform, download=True\n",
        ")\n",
        "test_dataset = datasets.MNIST(\n",
        "    root=\"./data\", train=False, transform=transform, download=True\n",
        ")\n",
        "\n",
        "batch_size = 128\n",
        "\n",
        "train_loader = DataLoader(\n",
        "    train_dataset,\n",
        "    batch_size=batch_size,\n",
        "    shuffle=True,\n",
        "    num_workers=1,\n",
        "    collate_fn=custom_collate_fn,\n",
        ")\n",
        "test_loader = DataLoader(\n",
        "    test_dataset,\n",
        "    batch_size=batch_size,\n",
        "    shuffle=False,\n",
        "    num_workers=1,\n",
        "    collate_fn=custom_collate_fn,\n",
        ")\n"
      ]
    },
    {
      "cell_type": "markdown",
      "metadata": {
        "id": "OyJNk8DwgeGm"
      },
      "source": [
        "We can see some of the MNIST images :)"
      ]
    },
    {
      "cell_type": "code",
      "execution_count": null,
      "metadata": {
        "id": "sPquNpCXgjM6",
        "outputId": "4570e74a-9db4-4e2a-e473-65efdc99cec4"
      },
      "outputs": [
        {
          "data": {
            "image/png": "[encoded data removed]",
            "text/plain": [
              "<Figure size 1000x300 with 5 Axes>"
            ]
          },
          "metadata": {},
          "output_type": "display_data"
        }
      ],
      "source": [
        "import matplotlib.pyplot as plt\n",
        "\n",
        "# Get a batch from the training data loader\n",
        "# Note: The custom_collate_fn flattens the data, so we need to reshape it back to image format (28x28)\n",
        "# Also, the original images are grayscale, so we don't need a color map.\n",
        "images, labels = next(iter(train_loader))\n",
        "\n",
        "# Reshape the flattened images back to 28x28 for plotting\n",
        "images = images.reshape(-1, 1, 28, 28)\n",
        "\n",
        "# Display a few images\n",
        "fig, axes = plt.subplots(1, 5, figsize=(10, 3))\n",
        "for i in range(5):\n",
        "    axes[i].imshow(images[i].squeeze(), cmap='gray')\n",
        "    axes[i].set_title(f\"Label: {labels[i]}\")\n",
        "    axes[i].axis('off')\n",
        "plt.show()"
      ]
    },
    {
      "cell_type": "markdown",
      "metadata": {
        "id": "kSdiOcLug3Hv"
      },
      "source": [
        "## Define an Autoencoder\n",
        "\n",
        "Next we define our convolutional network. Because the images are in grayscale, we specify one channel in the entrance as well as the dimension of the images. We also use average pooling after the batch normalization and use ReLU as activation function."
      ]
    },
    {
      "cell_type": "code",
      "execution_count": null,
      "metadata": {
        "id": "dBWQ9r7vgJVX"
      },
      "outputs": [],
      "source": [
        "from pytagi.nn import (\n",
        "    AvgPool2d,\n",
        "    BatchNorm2d,\n",
        "    Conv2d,\n",
        "    ConvTranspose2d,\n",
        "    Linear,\n",
        "    OutputUpdater,\n",
        "    MixtureReLU,\n",
        "    Sequential,\n",
        ")\n",
        "\n",
        "# Network\n",
        "encoder = Sequential(\n",
        "    Conv2d(\n",
        "        1,\n",
        "        16,\n",
        "        3,\n",
        "        bias=False,\n",
        "        padding=1,\n",
        "        in_width=28,\n",
        "        in_height=28,\n",
        "    ),\n",
        "    MixtureReLU(),\n",
        "    BatchNorm2d(16),\n",
        "    AvgPool2d(3, 2, 1, 2),\n",
        "    Conv2d(16, 32, 3, bias=False, padding=1),\n",
        "    MixtureReLU(),\n",
        "    BatchNorm2d(32),\n",
        "    AvgPool2d(3, 2, 1, 2),\n",
        "    Linear(32 * 7 * 7, 128),\n",
        "    MixtureReLU(),\n",
        "    Linear(128, 16),\n",
        ")\n",
        "\n",
        "decoder = Sequential(\n",
        "    Linear(16, 32 * 7 * 7),\n",
        "    MixtureReLU(),\n",
        "    ConvTranspose2d(\n",
        "        32,\n",
        "        32,\n",
        "        3,\n",
        "        bias=True,\n",
        "        stride=2,\n",
        "        padding=1,\n",
        "        padding_type=2,\n",
        "        in_width=7,\n",
        "        in_height=7,\n",
        "    ),\n",
        "    MixtureReLU(),\n",
        "    ConvTranspose2d(\n",
        "        32, 16, 3, bias=True, stride=2, padding=1, padding_type=2\n",
        "    ),\n",
        "    MixtureReLU(),\n",
        "    ConvTranspose2d(16, 1, 3, bias=True, padding=1),\n",
        ")\n"
      ]
    },
    {
      "cell_type": "markdown",
      "metadata": {
        "id": "sWE70rWZhj2-"
      },
      "source": [
        "## Train the network\n"
      ]
    },
    {
      "cell_type": "markdown",
      "metadata": {
        "id": "WV0o49RViJNq"
      },
      "source": [
        "In this step we can also make our model run on GPU in case we have CUDA."
      ]
    },
    {
      "cell_type": "code",
      "execution_count": null,
      "metadata": {
        "id": "ccLc2hgHiTGh"
      },
      "outputs": [],
      "source": [
        "import pytagi\n",
        "\n",
        "encoder.to_device(\"cuda\" if pytagi.cuda.is_available() else \"cpu\")\n",
        "decoder.to_device(\"cuda\" if pytagi.cuda.is_available() else \"cpu\")\n",
        "\n",
        "# We can also set number of threads if we run on CPU\n",
        "# encoder.set_threads(8)\n",
        "# decoder.set_threads(8)\n",
        "\n",
        "out_updater = OutputUpdater(decoder.device)"
      ]
    },
    {
      "cell_type": "markdown",
      "metadata": {
        "id": "gohOg5w28WAo"
      },
      "source": [
        "We need to also specify a sigma_v, which corresponds to the noise of the data."
      ]
    },
    {
      "cell_type": "code",
      "execution_count": null,
      "metadata": {
        "id": "68389a16",
        "outputId": "70799c3a-cf60-4380-c0ab-339b721f5558"
      },
      "outputs": [
        {
          "name": "stderr",
          "output_type": "stream",
          "text": [
            "Epoch 20/20 | training error: 35.56%: 100%|██████████| 20/20 [04:31<00:00, 13.55s/it]"
          ]
        },
        {
          "name": "stdout",
          "output_type": "stream",
          "text": [
            "Training complete.\n"
          ]
        },
        {
          "name": "stderr",
          "output_type": "stream",
          "text": [
            "\n"
          ]
        }
      ],
      "source": [
        "# Training\n",
        "error_rates = []\n",
        "num_epochs = 20\n",
        "sigma_v = 6.0\n",
        "\n",
        "num_pixels = 28 * 28\n",
        "\n",
        "pbar = tqdm(range(num_epochs), desc=\"Training Progress\")\n",
        "var_y = np.full((batch_size * num_pixels,), sigma_v**2, dtype=np.float32)\n",
        "\n",
        "for epoch in pbar:\n",
        "    encoder.train()\n",
        "    decoder.train()\n",
        "\n",
        "    for x, labels in train_loader:\n",
        "        # Feedforward and backward pass\n",
        "        _, _ = encoder(x)\n",
        "        m_pred, _ = decoder(encoder.output_z_buffer)\n",
        "\n",
        "        # Update output layer\n",
        "        out_updater.update(\n",
        "            output_states=decoder.output_z_buffer,\n",
        "            mu_obs=x,\n",
        "            var_obs=var_y,\n",
        "            delta_states=decoder.input_delta_z_buffer,\n",
        "        )\n",
        "\n",
        "        # Feed backward\n",
        "        decoder.backward()\n",
        "        decoder.step()\n",
        "\n",
        "        # Send updating values to encoder\n",
        "        encoder.input_delta_z_buffer.copy_from(\n",
        "            decoder.output_delta_z_buffer\n",
        "        )\n",
        "\n",
        "        encoder.backward()\n",
        "        encoder.step()\n",
        "\n",
        "        # Training metric (Mean Squared Error)\n",
        "        error = x - m_pred\n",
        "        error_rate = np.mean(np.square(error)) * 100\n",
        "        error_rates.append(error_rate)\n",
        "\n",
        "    # Averaged error\n",
        "    avg_error_rate = sum(error_rates[-100:]) / 100\n",
        "\n",
        "    pbar.set_description(\n",
        "        f\"Epoch {epoch + 1}/{num_epochs} | training error: {avg_error_rate:.2f}%\",\n",
        "        refresh=False,\n",
        "    )\n",
        "print(\"Training complete.\")"
      ]
    },
    {
      "cell_type": "markdown",
      "metadata": {
        "id": "Q3-Kv14PrWFO"
      },
      "source": [
        "## Test the model\n",
        "For the test, we are gonna visualize some of the reconstructed images of the test set."
      ]
    },
    {
      "cell_type": "code",
      "execution_count": null,
      "metadata": {
        "id": "eZ0uc2NDrVrc"
      },
      "outputs": [],
      "source": [
        "# Testing\n",
        "original_images = []\n",
        "generated_images = []\n",
        "encoder.eval()\n",
        "decoder.eval()\n",
        "\n",
        "for x, labels in test_loader:\n",
        "    _, _ = encoder(x)\n",
        "    m_pred, v_pred = decoder(encoder.output_z_buffer)\n",
        "\n",
        "    original_images.append(x.reshape(x.shape[0], -1))\n",
        "    generated_images.append(m_pred.reshape(m_pred.shape[0], -1))"
      ]
    },
    {
      "cell_type": "markdown",
      "metadata": {
        "id": "o96wk5B-ssoV"
      },
      "source": [
        "We can now try to visualize some of the predictions."
      ]
    },
    {
      "cell_type": "code",
      "execution_count": null,
      "metadata": {
        "id": "-pQ1Fwx6e7j2",
        "outputId": "5f22c6b4-8dd8-4044-f680-af09d326a1ef"
      },
      "outputs": [
        {
          "data": {
            "image/png": "[encoded data removed]",
            "text/plain": [
              "<Figure size 1000x400 with 10 Axes>"
            ]
          },
          "metadata": {},
          "output_type": "display_data"
        }
      ],
      "source": [
        "# Reshape original images to be (num_samples, 1, 28, 28)\n",
        "original_images = np.vstack(original_images).reshape(-1, 1, 28, 28)\n",
        "\n",
        "# Resize generated images to be (num_samples, 1, 28, 28)\n",
        "generated_images = np.vstack(generated_images).reshape(-1, 1, 28, 28)\n",
        "# Resize x to be (num_samples, 1, 28, 28)\n",
        "x = x.reshape(-1, 1, 28, 28)\n",
        "\n",
        "# Plot original and reconstructed images\n",
        "num_images_to_show = 5\n",
        "fig, axes = plt.subplots(2, num_images_to_show, figsize=(10, 4))\n",
        "for i in range(num_images_to_show):\n",
        "    # Original images\n",
        "    axes[0, i].imshow(original_images[i].reshape(28, 28), cmap='gray')\n",
        "    axes[0, i].set_title(f\"Original\")\n",
        "    axes[0, i].axis('off')\n",
        "\n",
        "    # Reconstructed images\n",
        "    axes[1, i].imshow(generated_images[i].squeeze(), cmap='gray')\n",
        "    axes[1, i].set_title(\"Reconstructed\")\n",
        "    axes[1, i].axis('off')\n",
        "plt.tight_layout()\n",
        "plt.show()"
      ]
    },
    {
      "cell_type": "markdown",
      "metadata": {
        "id": "fScUQn1oe7j3"
      },
      "source": [
        "As we can see, the autoencoder is working and it learns a more simple representation of the MNIST images, which is later able to reconstruct."
      ]
    }
  ],
  "metadata": {
    "accelerator": "GPU",
    "colab": {
      "gpuType": "T4",
      "provenance": []
    },
    "kernelspec": {
      "display_name": "cuTAGI",
      "language": "python",
      "name": "python3"
    },
    "language_info": {
      "codemirror_mode": {
        "name": "ipython",
        "version": 3
      },
      "file_extension": ".py",
      "mimetype": "text/x-python",
      "name": "python",
      "nbconvert_exporter": "python",
      "pygments_lexer": "ipython3",
      "version": "3.10.16"
    }
  },
  "nbformat": 4,
  "nbformat_minor": 0
}
